{
 "cells": [
  {
   "cell_type": "code",
   "execution_count": 8,
   "metadata": {},
   "outputs": [
    {
     "name": "stdout",
     "output_type": "stream",
     "text": [
      "[2, 3, 4, 4, 2, 0, 4, 6]\n",
      "(2, 3, 4, 4, 2, 0, 4, 6, 'bitcoin', 'ball')\n",
      "{'Vincent': 5, 'Jules': 1, 'Quentin': 30}\n"
     ]
    },
    {
     "ename": "ModuleNotFoundError",
     "evalue": "No module named 'numpy'",
     "output_type": "error",
     "traceback": [
      "\u001b[1;31m---------------------------------------------------------------------------\u001b[0m",
      "\u001b[1;31mModuleNotFoundError\u001b[0m                       Traceback (most recent call last)",
      "\u001b[1;32mUntitled-1.ipynb Cell 1'\u001b[0m in \u001b[0;36m<cell line: 19>\u001b[1;34m()\u001b[0m\n\u001b[0;32m     <a href='vscode-notebook-cell:Untitled-1.ipynb?jupyter-notebook#ch0000000untitled?line=15'>16</a>\u001b[0m result2 \u001b[39m=\u001b[39m {\u001b[39m\"\u001b[39m\u001b[39mVincent\u001b[39m\u001b[39m\"\u001b[39m: \u001b[39m5\u001b[39m, \u001b[39m\"\u001b[39m\u001b[39mJules\u001b[39m\u001b[39m\"\u001b[39m: \u001b[39m1\u001b[39m, \u001b[39m\"\u001b[39m\u001b[39mQuentin\u001b[39m\u001b[39m\"\u001b[39m: \u001b[39m30\u001b[39m}\n\u001b[0;32m     <a href='vscode-notebook-cell:Untitled-1.ipynb?jupyter-notebook#ch0000000untitled?line=16'>17</a>\u001b[0m \u001b[39mprint\u001b[39m(result2)\n\u001b[1;32m---> <a href='vscode-notebook-cell:Untitled-1.ipynb?jupyter-notebook#ch0000000untitled?line=18'>19</a>\u001b[0m \u001b[39mimport\u001b[39;00m \u001b[39mnumpy\u001b[39;00m \u001b[39mas\u001b[39;00m \u001b[39mnp\u001b[39;00m\n\u001b[0;32m     <a href='vscode-notebook-cell:Untitled-1.ipynb?jupyter-notebook#ch0000000untitled?line=19'>20</a>\u001b[0m s \u001b[39m=\u001b[39m np\u001b[39m.\u001b[39mrandom\u001b[39m.\u001b[39mnormal(\u001b[39m0\u001b[39m,\u001b[39m1\u001b[39m,\u001b[39m100\u001b[39m)\n\u001b[0;32m     <a href='vscode-notebook-cell:Untitled-1.ipynb?jupyter-notebook#ch0000000untitled?line=20'>21</a>\u001b[0m \u001b[39m#10th element\u001b[39;00m\n",
      "\u001b[1;31mModuleNotFoundError\u001b[0m: No module named 'numpy'"
     ]
    }
   ],
   "source": [
    "# Your answer here\n",
    "#Creating arbitrary list:\n",
    "import random\n",
    "var = 8\n",
    "result = []\n",
    "for x in range(var):\n",
    "    y = random.randrange(0, 7)\n",
    "    result.append(y)\n",
    "print(result)\n",
    "\n",
    "#Creating tuple:\n",
    "result1 = tuple(result) + (\"bitcoin\", \"ball\")\n",
    "print(result1)\n",
    "\n",
    "#Creating dictionary:\n",
    "result2 = {\"Vincent\": 5, \"Jules\": 1, \"Quentin\": 30}\n",
    "print(result2)\n",
    "\n",
    "import numpy as np\n",
    "s = np.random.normal(0,1,100)\n",
    "#10th element\n",
    "res10 = s[9]\n",
    "print(res10)\n",
    "\n",
    "#10 to 20\n",
    "res1020 = s[9:19]\n",
    "print(res1020)\n",
    "\n",
    "#elements more than 0\n",
    "res0 = []\n",
    "for x in s:\n",
    "    if x > 0:\n",
    "        res0.append(x)\n",
    "print(res0)"
   ]
  }
 ],
 "metadata": {
  "interpreter": {
   "hash": "817da44ed4202185ba033d3723220daf899f0656d1ace24ef4b268a76d77a803"
  },
  "kernelspec": {
   "display_name": "Python 3.10.5 64-bit",
   "language": "python",
   "name": "python3"
  },
  "language_info": {
   "codemirror_mode": {
    "name": "ipython",
    "version": 3
   },
   "file_extension": ".py",
   "mimetype": "text/x-python",
   "name": "python",
   "nbconvert_exporter": "python",
   "pygments_lexer": "ipython3",
   "version": "3.10.5"
  },
  "orig_nbformat": 4
 },
 "nbformat": 4,
 "nbformat_minor": 2
}
