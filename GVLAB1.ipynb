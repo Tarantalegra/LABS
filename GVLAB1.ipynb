{
 "cells": [
  {
   "cell_type": "code",
   "execution_count": 1,
   "metadata": {},
   "outputs": [
    {
     "name": "stdout",
     "output_type": "stream",
     "text": [
      "[7, 2, 0, 5, 0, 8, 3, 0, 4, 7]\n",
      "(7, 2, 0, 5, 0, 8, 3, 0, 4, 7, 'apple', 'car')\n",
      "{'Apple': 5, 'Pork': 1, 'Cashew': 30}\n"
     ]
    }
   ],
   "source": [
    "# Your answer here\n",
    "#Creating arbitrary list:\n",
    "import random\n",
    "var = 10\n",
    "resl = []\n",
    "for x in range(var):\n",
    "    y = random.randrange(0, 9)\n",
    "    resl.append(y)\n",
    "print(resl)\n",
    "\n",
    "#Creating tuple:\n",
    "rest = tuple(resl) + (\"apple\", \"car\")\n",
    "print(rest)\n",
    "\n",
    "#Creating dictionary:\n",
    "resd = {\"Apple\": 5, \"Pork\": 1, \"Cashew\": 30}\n",
    "print(resd)"
   ]
  },
  {
   "cell_type": "code",
   "execution_count": 2,
   "metadata": {},
   "outputs": [
    {
     "name": "stdout",
     "output_type": "stream",
     "text": [
      "0.0892678300123018\n",
      "[ 0.08926783 -1.4695107   0.32353633  0.46297493 -0.46523528 -0.27536426\n",
      "  0.63819545  0.49147858  0.72996727 -0.85616678]\n",
      "[0.8427225122751871, 0.07988368373791807, 0.33750196048473974, 0.8779781465388153, 1.366320234975083, 0.0892678300123018, 0.32353633255166514, 0.46297492747181573, 0.6381954473495443, 0.4914785816215126, 0.7299672747113091, 0.39804551293359197, 1.4843244837611242, 1.5154342485275702, 1.0483435736481548, 0.5634429382799626, 0.9759514415287498, 1.67995468823222, 0.39537161882819366, 1.19298820378634, 1.0937009564134479, 0.9676704201000625, 0.769272691243017, 1.8670594183519955, 1.221580959910973, 0.11911247319473336, 0.788250595489097, 1.512015416859803, 1.8386971365224174, 1.0647922968696957, 1.287211766762712, 0.7167035282097546, 0.605925728929772, 0.7577510231524575, 1.0596857022283863, 0.7689642172219862, 0.4684517093116439, 1.7361133564279236, 0.03281562646670262, 0.34913461570313326, 0.488003285420343, 1.1490080636719604, 0.31034881866810027, 0.14843492021665336, 0.6232117452041583, 1.1125498537252885, 0.02158661688732253, 0.6287876660454611, 0.6440898597523631, 1.0605036035924502, 0.4567879112007023, 0.6556668431986412]\n"
     ]
    }
   ],
   "source": [
    "import numpy as np\n",
    "s = np.random.normal(0,1,100)\n",
    "#10th element\n",
    "res10 = s[9]\n",
    "print(res10)\n",
    "\n",
    "#10 to 20\n",
    "res1020 = s[9:19]\n",
    "print(res1020)\n",
    "\n",
    "#elements more than 0\n",
    "res0 = []\n",
    "for x in s:\n",
    "    if x > 0:\n",
    "        res0.append(x)\n",
    "print(res0)\n",
    "    "
   ]
  },
  {
   "cell_type": "code",
   "execution_count": 3,
   "metadata": {},
   "outputs": [],
   "source": [
    "def pow(number, power):\n",
    "    if power >=50:\n",
    "        print(\"power is too big\")\n",
    "        number = -1\n",
    "        return number\n",
    "    else:\n",
    "        return number**power\n",
    "\n"
   ]
  },
  {
   "cell_type": "code",
   "execution_count": 4,
   "metadata": {},
   "outputs": [
    {
     "name": "stdout",
     "output_type": "stream",
     "text": [
      "[19.26869130272499, 25.475072872436485, 33.934257278716785, 70.77435820905998, 83.46149744393014, 10.2394785853555, 75.18962759760771, 31.59038174565623, 79.02940598311008, 24.379863593506172, 36.029347231341205, 98.05869666008209, 146.72154073293285, 22.959148648140044]\n"
     ]
    }
   ],
   "source": [
    "import numpy as np\n",
    "def above(x,n=10):\n",
    "    res = []\n",
    "    for y in x:\n",
    "        if y > n:\n",
    "            res.append(y)\n",
    "    return res\n",
    "x = np.random.normal(-100,100,100)\n",
    "print(above(x))"
   ]
  },
  {
   "cell_type": "code",
   "execution_count": 5,
   "metadata": {},
   "outputs": [
    {
     "name": "stdout",
     "output_type": "stream",
     "text": [
      "[-192.4828583736461, -1.0603555467358774, -84.5423119768472, -101.52204089141426, -135.54531737380256, -137.51461712109565, -64.24951427603159, -129.98454530309164, -91.55293506902726, -129.50787331431252, -44.126456701283935, -24.910541163326997, -86.84668596931276, -133.61915027357867, -107.46201262664997, -164.24770357419095, -91.72586904293203, -185.80395076279908, -221.72749802197194, -207.9235461161232, -51.705634975944896, -18.798760677778745, -55.8791305893659, -30.331949489926615, -149.62401412670403, -212.08474437694187, -39.338628819522, -72.20823200098562, -130.31680572796284, -216.63335539868893, -19.697165657574914, -182.45073657546277, -215.60174039990815, -4.125673449241589, -70.92830648771663, -97.55066769687586, -226.87300535314125, -146.77087352239755, -266.2659176224288, -100.43959342657026, -34.23748142385304, -34.23652817026455, -145.65734271085495, -136.65998767715877, -81.91134553154316, -189.45686074851005, -20.984871005104196, -202.57791224832005, -90.70849885686235, -3.846203819194045, -91.1353324869384, -129.368202130141, -116.67312599742019, -120.8327115440438, -174.196733172757, -157.97919467349692, -127.70775925937215, -221.12309872060928, -6.720284081417233, -239.187049994908, -51.219309306199555, -157.34597670418535, -87.27458364332367, -117.85529746245116, -24.475987883215907, -3.9901274222662266, -47.50964970707121, -132.92058256973903, -99.18011071114967, -25.51183153038295, -179.95371155735344, -63.010460680567824, -166.2616818533201, -48.17070668785147, -48.312653075221654, -139.24548921524138, -146.16922749802654, -17.031806593355995, 6.23821662160033, -417.3081660140291]\n"
     ]
    }
   ],
   "source": [
    "import numpy as np\n",
    "def my_ifelse(x, exp, n):\n",
    "    res = []\n",
    "    if exp == '=':\n",
    "        exp = '=='\n",
    "    for y in x:\n",
    "        if eval(str(y) + ' ' + exp + ' ' + str(n)):\n",
    "            res.append(y)\n",
    "    return res\n",
    "x = np.random.normal(-100,100,100)\n",
    "print(my_ifelse(x, \"<=\", 10))\n"
   ]
  },
  {
   "cell_type": "code",
   "execution_count": 6,
   "metadata": {},
   "outputs": [
    {
     "name": "stdout",
     "output_type": "stream",
     "text": [
      "{'k': 1, 'o': 1, 'l': 1, 'i': 1, 'a': 1}\n"
     ]
    }
   ],
   "source": [
    "from string import ascii_letters \n",
    "def counter(input_string):\n",
    "    alphabet = ascii_letters\n",
    "    count_letters = {}\n",
    "    for letter in input_string:\n",
    "        if letter in count_letters:\n",
    "            count_letters[letter] += 1\n",
    "        else:\n",
    "            count_letters[letter] = 1\n",
    "    return count_letters\n",
    "x = input()\n",
    "print(counter(x))"
   ]
  },
  {
   "cell_type": "code",
   "execution_count": 7,
   "metadata": {},
   "outputs": [
    {
     "name": "stdout",
     "output_type": "stream",
     "text": [
      "{'l': 2, 'g': 1, 'e': 1, 'b': 1, 'i': 1}\n"
     ]
    }
   ],
   "source": [
    "from string import ascii_letters \n",
    "def counter(input_string, reverse = False):\n",
    "    alphabet = ascii_letters\n",
    "    count_letters = {}\n",
    "    for letter in input_string:\n",
    "        if letter in count_letters:\n",
    "            count_letters[letter] += 1\n",
    "        else:\n",
    "            count_letters[letter] = 1\n",
    "    if reverse == False:\n",
    "        return dict(sorted(count_letters.items(), key = lambda item: item[1]))\n",
    "    elif reverse == True:\n",
    "        return dict(sorted(count_letters.items(), key = lambda item: item[1], reverse=True))\n",
    "x = input()\n",
    "print(counter(x, True))"
   ]
  }
 ],
 "metadata": {
  "interpreter": {
   "hash": "11938c6bc6919ae2720b4d5011047913343b08a43b18698fd82dedb0d4417594"
  },
  "kernelspec": {
   "display_name": "Python 3.9.1 64-bit",
   "language": "python",
   "name": "python3"
  },
  "language_info": {
   "codemirror_mode": {
    "name": "ipython",
    "version": 3
   },
   "file_extension": ".py",
   "mimetype": "text/x-python",
   "name": "python",
   "nbconvert_exporter": "python",
   "pygments_lexer": "ipython3",
   "version": "3.9.1"
  },
  "orig_nbformat": 4
 },
 "nbformat": 4,
 "nbformat_minor": 2
}
